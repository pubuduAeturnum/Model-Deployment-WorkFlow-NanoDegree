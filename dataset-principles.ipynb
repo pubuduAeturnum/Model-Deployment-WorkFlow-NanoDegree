{
 "cells": [
  {
   "cell_type": "code",
   "execution_count": 2,
   "id": "5f94405e-b59b-41ad-aa70-f573ef32aa1d",
   "metadata": {
    "tags": []
   },
   "outputs": [],
   "source": [
    "import pandas as pd\n",
    "from sklearn.datasets import make_regression\n",
    "from sklearn.model_selection import train_test_split"
   ]
  },
  {
   "cell_type": "code",
   "execution_count": 3,
   "id": "52dc82d5-4576-42e6-bde6-56c9088946fc",
   "metadata": {
    "tags": []
   },
   "outputs": [],
   "source": [
    "# Creating a regression dataset with 1000 samples, 5 feature columns, 2 which are actually useful, and 1 target column\n",
    "regression_dataset = make_regression(\n",
    "    n_samples=1000, n_features=5, n_informative=2, n_targets=1, random_state=0\n",
    ")"
   ]
  },
  {
   "cell_type": "code",
   "execution_count": 11,
   "id": "9261c2f5-b3b9-42e0-923b-10f9d7e6ce8f",
   "metadata": {
    "tags": []
   },
   "outputs": [
    {
     "data": {
      "text/html": [
       "<div>\n",
       "<style scoped>\n",
       "    .dataframe tbody tr th:only-of-type {\n",
       "        vertical-align: middle;\n",
       "    }\n",
       "\n",
       "    .dataframe tbody tr th {\n",
       "        vertical-align: top;\n",
       "    }\n",
       "\n",
       "    .dataframe thead th {\n",
       "        text-align: right;\n",
       "    }\n",
       "</style>\n",
       "<table border=\"1\" class=\"dataframe\">\n",
       "  <thead>\n",
       "    <tr style=\"text-align: right;\">\n",
       "      <th></th>\n",
       "      <th>0</th>\n",
       "      <th>1</th>\n",
       "      <th>2</th>\n",
       "      <th>3</th>\n",
       "      <th>4</th>\n",
       "      <th>target</th>\n",
       "    </tr>\n",
       "  </thead>\n",
       "  <tbody>\n",
       "    <tr>\n",
       "      <th>0</th>\n",
       "      <td>0.236225</td>\n",
       "      <td>-0.323289</td>\n",
       "      <td>-0.018429</td>\n",
       "      <td>-1.548471</td>\n",
       "      <td>1.311427</td>\n",
       "      <td>70.618083</td>\n",
       "    </tr>\n",
       "    <tr>\n",
       "      <th>1</th>\n",
       "      <td>-0.801497</td>\n",
       "      <td>0.271170</td>\n",
       "      <td>-0.525641</td>\n",
       "      <td>-0.887780</td>\n",
       "      <td>0.936399</td>\n",
       "      <td>52.757870</td>\n",
       "    </tr>\n",
       "    <tr>\n",
       "      <th>2</th>\n",
       "      <td>0.687881</td>\n",
       "      <td>0.417044</td>\n",
       "      <td>-1.203735</td>\n",
       "      <td>0.498727</td>\n",
       "      <td>-0.737932</td>\n",
       "      <td>-43.728456</td>\n",
       "    </tr>\n",
       "    <tr>\n",
       "      <th>3</th>\n",
       "      <td>-0.679593</td>\n",
       "      <td>-1.063433</td>\n",
       "      <td>-1.797456</td>\n",
       "      <td>0.913202</td>\n",
       "      <td>2.211304</td>\n",
       "      <td>156.835125</td>\n",
       "    </tr>\n",
       "    <tr>\n",
       "      <th>4</th>\n",
       "      <td>0.096479</td>\n",
       "      <td>-0.507060</td>\n",
       "      <td>0.522083</td>\n",
       "      <td>0.155794</td>\n",
       "      <td>1.520004</td>\n",
       "      <td>102.748706</td>\n",
       "    </tr>\n",
       "    <tr>\n",
       "      <th>...</th>\n",
       "      <td>...</td>\n",
       "      <td>...</td>\n",
       "      <td>...</td>\n",
       "      <td>...</td>\n",
       "      <td>...</td>\n",
       "      <td>...</td>\n",
       "    </tr>\n",
       "    <tr>\n",
       "      <th>995</th>\n",
       "      <td>1.608522</td>\n",
       "      <td>-0.952645</td>\n",
       "      <td>0.160661</td>\n",
       "      <td>0.502328</td>\n",
       "      <td>-0.862267</td>\n",
       "      <td>-51.958097</td>\n",
       "    </tr>\n",
       "    <tr>\n",
       "      <th>996</th>\n",
       "      <td>1.076200</td>\n",
       "      <td>0.215930</td>\n",
       "      <td>1.507616</td>\n",
       "      <td>0.458680</td>\n",
       "      <td>1.192809</td>\n",
       "      <td>84.235700</td>\n",
       "    </tr>\n",
       "    <tr>\n",
       "      <th>997</th>\n",
       "      <td>-0.028529</td>\n",
       "      <td>-0.309378</td>\n",
       "      <td>0.284791</td>\n",
       "      <td>0.886492</td>\n",
       "      <td>-0.272132</td>\n",
       "      <td>-8.598279</td>\n",
       "    </tr>\n",
       "    <tr>\n",
       "      <th>998</th>\n",
       "      <td>-0.937948</td>\n",
       "      <td>0.711785</td>\n",
       "      <td>-0.288131</td>\n",
       "      <td>-1.410823</td>\n",
       "      <td>0.164913</td>\n",
       "      <td>-4.149700</td>\n",
       "    </tr>\n",
       "    <tr>\n",
       "      <th>999</th>\n",
       "      <td>-0.656464</td>\n",
       "      <td>0.867407</td>\n",
       "      <td>0.755396</td>\n",
       "      <td>-0.591403</td>\n",
       "      <td>1.124419</td>\n",
       "      <td>68.436691</td>\n",
       "    </tr>\n",
       "  </tbody>\n",
       "</table>\n",
       "<p>1000 rows × 6 columns</p>\n",
       "</div>"
      ],
      "text/plain": [
       "            0         1         2         3         4      target\n",
       "0    0.236225 -0.323289 -0.018429 -1.548471  1.311427   70.618083\n",
       "1   -0.801497  0.271170 -0.525641 -0.887780  0.936399   52.757870\n",
       "2    0.687881  0.417044 -1.203735  0.498727 -0.737932  -43.728456\n",
       "3   -0.679593 -1.063433 -1.797456  0.913202  2.211304  156.835125\n",
       "4    0.096479 -0.507060  0.522083  0.155794  1.520004  102.748706\n",
       "..        ...       ...       ...       ...       ...         ...\n",
       "995  1.608522 -0.952645  0.160661  0.502328 -0.862267  -51.958097\n",
       "996  1.076200  0.215930  1.507616  0.458680  1.192809   84.235700\n",
       "997 -0.028529 -0.309378  0.284791  0.886492 -0.272132   -8.598279\n",
       "998 -0.937948  0.711785 -0.288131 -1.410823  0.164913   -4.149700\n",
       "999 -0.656464  0.867407  0.755396 -0.591403  1.124419   68.436691\n",
       "\n",
       "[1000 rows x 6 columns]"
      ]
     },
     "execution_count": 11,
     "metadata": {},
     "output_type": "execute_result"
    }
   ],
   "source": [
    "df = pd.DataFrame(regression_dataset[0])\n",
    "df[\"target\"]=regression_dataset[1]\n",
    "df"
   ]
  },
  {
   "cell_type": "code",
   "execution_count": 17,
   "id": "66408534-0e53-4083-9548-4a2b110e15b1",
   "metadata": {
    "tags": []
   },
   "outputs": [],
   "source": [
    "# Create a train: 0.8 | test: 0.2 ratio dataset\n",
    "df_train, df_test = train_test_split(df,test_size=0.2,random_state=0)\n",
    "\n",
    "# Create a train: 0.6 | validation: 0.2 ratio dataset\n",
    "df_train, df_val = train_test_split(df_train,test_size=0.25,random_state=0)\n",
    "\n",
    "# Final dataset sizes: train: 0.6, validation: 0.2, test: 0.2,"
   ]
  },
  {
   "cell_type": "code",
   "execution_count": 18,
   "id": "afbf5909-d018-4d97-993a-589ca588822f",
   "metadata": {
    "tags": []
   },
   "outputs": [
    {
     "name": "stdout",
     "output_type": "stream",
     "text": [
      "Train: (600, 6)\n",
      "Validation: (200, 6)\n",
      "Test: (200, 6)\n"
     ]
    }
   ],
   "source": [
    "# Output each shape to confirm the size of train/validation/test\n",
    "print(f\"Train: {df_train.shape}\")\n",
    "print(f\"Validation: {df_val.shape}\")\n",
    "print(f\"Test: {df_test.shape}\")"
   ]
  },
  {
   "cell_type": "code",
   "execution_count": 19,
   "id": "e333e66a-218e-446f-8893-e9c14a9690c7",
   "metadata": {
    "tags": []
   },
   "outputs": [],
   "source": [
    "# Output all datasets to csv\n",
    "df_train.to_csv(\"train.csv\",index=False)\n",
    "df_val.to_csv(\"validation.csv\",index=False)\n",
    "df_test.to_csv(\"test.csv\",index=False)"
   ]
  },
  {
   "cell_type": "code",
   "execution_count": null,
   "id": "cafa6d65-37e9-4002-851e-82fd2dc8e0f1",
   "metadata": {},
   "outputs": [],
   "source": []
  }
 ],
 "metadata": {
  "instance_type": "ml.t3.medium",
  "kernelspec": {
   "display_name": "Python 3 (Data Science 3.0)",
   "language": "python",
   "name": "python3__SAGEMAKER_INTERNAL__arn:aws:sagemaker:us-east-1:081325390199:image/sagemaker-data-science-310-v1"
  },
  "language_info": {
   "codemirror_mode": {
    "name": "ipython",
    "version": 3
   },
   "file_extension": ".py",
   "mimetype": "text/x-python",
   "name": "python",
   "nbconvert_exporter": "python",
   "pygments_lexer": "ipython3",
   "version": "3.10.6"
  }
 },
 "nbformat": 4,
 "nbformat_minor": 5
}
